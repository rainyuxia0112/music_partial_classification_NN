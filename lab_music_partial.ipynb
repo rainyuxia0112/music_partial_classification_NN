{
 "cells": [
  {
   "cell_type": "markdown",
   "metadata": {},
   "source": [
    "# Lab:  Neural Networks for Music Classification\n",
    "\n",
    "Due June 5 at 11:59pm.  This lab may be done alone or in groups up to four.  Everyone should submit their own lab, but indicate on your submission if you worked with others.\n",
    "\n",
    "In addition to the concepts in the MNIST neural network demo (posted in the Demo section of CCLE), in this lab, you will learn to:\n",
    "\n",
    "* Load a file from a URL\n",
    "* Extract simple features from audio samples for machine learning tasks such as speech recognition and classification\n",
    "* Build a simple neural network for music classification using these features\n",
    "* Use a callback to store the loss and accuracy history in the training process\n",
    "* Optimize the learning rate of the neural network\n",
    "\n",
    "To illustrate the basic concepts, we will look at a relatively simple music classification problem.  Given a sample of music, we want to determine which instrument (e.g. trumpet, violin, piano) is playing.  This dataset was generously supplied by [Prof. Juan Bello](http://steinhardt.nyu.edu/faculty/Juan_Pablo_Bello) at NYU Stenihardt  and his former PhD student Eric Humphrey (now at Spotify).  They have a complete website dedicated to deep learning methods in music informatics:\n",
    "\n",
    "http://marl.smusic.nyu.edu/wordpress/projects/feature-learning-deep-architectures/deep-learning-python-tutorial/\n",
    "\n"
   ]
  },
  {
   "cell_type": "markdown",
   "metadata": {},
   "source": [
    "## Loading Tensorflow\n",
    "\n",
    "Before starting this lab, you will need to install [Tensorflow](https://www.tensorflow.org/install/).  If you are using [Google colaboratory](https://colab.research.google.com), Tensorflow is already installed.  Run the following command to ensure Tensorflow is installed."
   ]
  },
  {
   "cell_type": "code",
   "execution_count": 58,
   "metadata": {},
   "outputs": [],
   "source": [
    "import tensorflow as tf"
   ]
  },
  {
   "cell_type": "markdown",
   "metadata": {},
   "source": [
    "Then, load the other packages."
   ]
  },
  {
   "cell_type": "code",
   "execution_count": 59,
   "metadata": {},
   "outputs": [],
   "source": [
    "import numpy as np\n",
    "import matplotlib\n",
    "import matplotlib.pyplot as plt\n",
    "%matplotlib inline"
   ]
  },
  {
   "cell_type": "markdown",
   "metadata": {},
   "source": [
    "## Audio Feature Extraction with Librosa\n",
    "\n",
    "The key to audio classification is to extract the correct features. In addition to `keras`, we will need the `librosa` package.  The `librosa` package in python has a rich set of methods extracting the features of audio samples commonly used in machine learning tasks such as speech recognition and sound classification. \n",
    "\n",
    "Installation instructions and complete documentation for the package are given on the [librosa main page](https://librosa.github.io/librosa/).  On most systems, you should be able to simply use:\n",
    "\n",
    "    pip install -u librosa\n",
    "    \n",
    "After you have installed the package, try to import it."
   ]
  },
  {
   "cell_type": "code",
   "execution_count": 60,
   "metadata": {},
   "outputs": [],
   "source": [
    "import librosa\n",
    "import librosa.display\n",
    "import librosa.feature"
   ]
  },
  {
   "cell_type": "markdown",
   "metadata": {},
   "source": [
    "In this lab, we will use a set of music samples from the website:\n",
    "\n",
    "http://theremin.music.uiowa.edu\n",
    "\n",
    "This website has a great set of samples for audio processing.  Look on the web for how to use the `requests.get` and `file.write` commands to load the file at the URL provided into your working directory.\n",
    "\n",
    "You can play the audio sample by copying the file to your local machine and playing it on any media player.  If you listen to it you will hear a soprano saxaphone (with vibrato) playing four notes (C, C#, D, Eb)."
   ]
  },
  {
   "cell_type": "code",
   "execution_count": 61,
   "metadata": {},
   "outputs": [
    {
     "data": {
      "text/plain": [
       "1418242"
      ]
     },
     "execution_count": 61,
     "metadata": {},
     "output_type": "execute_result"
    }
   ],
   "source": [
    "import requests\n",
    "fn = \"SopSax.Vib.pp.C6Eb6.aiff\"\n",
    "url = \"http://theremin.music.uiowa.edu/sound files/MIS/Woodwinds/sopranosaxophone/\"+fn\n",
    "\n",
    "# TODO:  Load the file from url and save it in a file under the name fn\n",
    "r = requests.get(url, allow_redirects=True)\n",
    "open('fn.aiff', 'wb').write(r.content)     #file.write 可以load任何形式的文件，不一定是txt"
   ]
  },
  {
   "cell_type": "markdown",
   "metadata": {},
   "source": [
    "Next, use `librosa` command `librosa.load` to read the audio file with filename `fn` and get the samples `y` and sample rate `sr`."
   ]
  },
  {
   "cell_type": "code",
   "execution_count": 62,
   "metadata": {},
   "outputs": [],
   "source": [
    "# TODO\n",
    "y, sr = librosa.load('fn.aiff')"
   ]
  },
  {
   "cell_type": "markdown",
   "metadata": {},
   "source": [
    "Extracting features from audio files is an entire subject on its own right.  A commonly used set of features are called the Mel Frequency Cepstral Coefficients (MFCCs).  These are derived from the so-called mel spectrogram which is something like a regular spectrogram, but the power and frequency are represented in log scale, which more naturally aligns with human perceptual processing.  You can run the code below to display the mel spectrogram from the audio sample.\n",
    "\n",
    "You can easily see the four notes played in the audio track.  You also see the 'harmonics' of each notes, which are other tones at integer multiples of the fundamental frequency of each note."
   ]
  },
  {
   "cell_type": "code",
   "execution_count": 63,
   "metadata": {},
   "outputs": [
    {
     "data": {
      "image/png": "[encoded data removed]",
      "text/plain": [
       "<Figure size 432x288 with 2 Axes>"
      ]
     },
     "metadata": {
      "needs_background": "light"
     },
     "output_type": "display_data"
    }
   ],
   "source": [
    "S = librosa.feature.melspectrogram(y=y, sr=sr, n_mels=128, fmax=8000)\n",
    "librosa.display.specshow(librosa.amplitude_to_db(S),\n",
    "                         y_axis='mel', fmax=8000, x_axis='time')\n",
    "plt.colorbar(format='%+2.0f dB')\n",
    "plt.title('Mel spectrogram')\n",
    "plt.tight_layout()"
   ]
  },
  {
   "cell_type": "markdown",
   "metadata": {},
   "source": [
    "## Downloading the Data\n",
    "\n",
    "Using the MFCC features described above, Eric Humphrey and Juan Bellow have created a complete data set that can used for instrument classification.  Essentially, they collected a number of data files from the website above.  For each audio file, the segmented the track into notes and then extracted 120 MFCCs for each note.  The goal is to recognize the instrument from the 120 MFCCs.  The process of feature extraction is quite involved.  So, we will just use their processed data provided at:\n",
    "\n",
    "https://github.com/marl/dl4mir-tutorial/blob/master/README.md\n",
    "\n",
    "Note the password.  Load the four files into some directory, say  `instrument_dataset`.  Then, load them with the commands."
   ]
  },
  {
   "cell_type": "code",
   "execution_count": 64,
   "metadata": {},
   "outputs": [],
   "source": [
    "data_dir = 'instrument_dataset/'\n",
    "Xtr = np.load(data_dir+'uiowa_train_data.npy')\n",
    "ytr = np.load(data_dir+'uiowa_train_labels.npy')\n",
    "Xts = np.load(data_dir+'uiowa_test_data.npy')\n",
    "yts = np.load(data_dir+'uiowa_test_labels.npy')"
   ]
  },
  {
   "cell_type": "markdown",
   "metadata": {},
   "source": [
    "Looking at the data files:\n",
    "* What are the number of training and test samples?\n",
    "* What is the number of features for each sample?\n",
    "* How many classes (i.e. instruments) are there per class?\n"
   ]
  },
  {
   "cell_type": "markdown",
   "metadata": {},
   "source": [
    "Before continuing, you must scale the training and test data, `Xtr` and `Xts`.  Compute the mean and std deviation of each feature in `Xtr` and create a new training data set, `Xtr_scale`, by subtracting the mean and dividing by the std deviation.  Also compute a scaled test data set, `Xts_scale` using the mean and std deviation learned from the training data set."
   ]
  },
  {
   "cell_type": "code",
   "execution_count": 65,
   "metadata": {},
   "outputs": [],
   "source": [
    "# TODO Scale the training and test matrices\n",
    "from sklearn.preprocessing import StandardScaler\n",
    "scaler = StandardScaler()\n",
    "Xtr_scale = scaler.fit_transform(Xtr)\n",
    "Xts_scale = scaler.transform(Xts)\n",
    "# other method\n",
    "# TODO Scale the training and test matrices\n",
    "train_mean = np.mean(Xtr, axis = 0)\n",
    "train_std = np.std(Xtr, axis = 0)\n",
    "Xtr_scale = (Xtr - train_mean)/train_std\n",
    "Xts_scale = (Xts - train_mean)/train_std"
   ]
  },
  {
   "cell_type": "code",
   "execution_count": 66,
   "metadata": {},
   "outputs": [],
   "source": [
    "from tensorflow.keras.utils import to_categorical\n",
    "train_labels=to_categorical(ytr) \n",
    "test_labels=to_categorical(yts) "
   ]
  },
  {
   "cell_type": "markdown",
   "metadata": {
    "collapsed": true
   },
   "source": [
    "## Building a Neural Network Classifier\n",
    "\n",
    "Following the example in [MNIST neural network demo](./mnist_neural.ipynb), clear the keras session.  Then, create a neural network `model` with:\n",
    "* `nh=256` hidden units\n",
    "* `sigmoid` activation\n",
    "* select the input and output shapes correctly\n",
    "* print the model summary"
   ]
  },
  {
   "cell_type": "code",
   "execution_count": 67,
   "metadata": {},
   "outputs": [],
   "source": [
    "from tensorflow.keras.models import Model, Sequential\n",
    "from tensorflow.keras.layers import Dense, Activation\n",
    "import tensorflow.keras.backend as K"
   ]
  },
  {
   "cell_type": "code",
   "execution_count": 68,
   "metadata": {},
   "outputs": [],
   "source": [
    "# TODO clear session\n",
    "K.clear_session()"
   ]
  },
  {
   "cell_type": "code",
   "execution_count": 69,
   "metadata": {},
   "outputs": [],
   "source": [
    "# TODO: construct the model\n",
    "model = Sequential()\n",
    "model.add(Dense(256, activation = 'sigmoid', input_shape = (120,)))\n",
    "model.add(Dense(10, activation = 'softmax'))"
   ]
  },
  {
   "cell_type": "code",
   "execution_count": 70,
   "metadata": {},
   "outputs": [
    {
     "name": "stdout",
     "output_type": "stream",
     "text": [
      "_________________________________________________________________\n",
      "Layer (type)                 Output Shape              Param #   \n",
      "=================================================================\n",
      "dense (Dense)                (None, 256)               30976     \n",
      "_________________________________________________________________\n",
      "dense_1 (Dense)              (None, 10)                2570      \n",
      "=================================================================\n",
      "Total params: 33,546\n",
      "Trainable params: 33,546\n",
      "Non-trainable params: 0\n",
      "_________________________________________________________________\n"
     ]
    }
   ],
   "source": [
    "# TODO:  Print the model summary\n",
    "model.summary()"
   ]
  },
  {
   "cell_type": "markdown",
   "metadata": {},
   "source": [
    "Create an optimizer and compile the model.  Select the appropriate loss function and metrics.  For the optimizer, use the Adam optimizer with a learning rate of 0.001"
   ]
  },
  {
   "cell_type": "code",
   "execution_count": 71,
   "metadata": {
    "scrolled": true
   },
   "outputs": [],
   "source": [
    "# TODO\n",
    "from tensorflow.keras.optimizers import Adam\n",
    "opt = Adam(lr = 0.001, decay=1e-6)\n",
    "model.compile(\n",
    "    loss='categorical_crossentropy',\n",
    "    optimizer= opt, \n",
    "    metrics = ['acc']\n",
    ") "
   ]
  },
  {
   "cell_type": "markdown",
   "metadata": {},
   "source": [
    "Fit the model for 10 epochs using the scaled data for both the training and validation.  Use the `validation_data` option to pass the test data.  Also, pass the callback class create above.  Use a batch size of 100.  Your final accuracy should be >99%."
   ]
  },
  {
   "cell_type": "code",
   "execution_count": 72,
   "metadata": {
    "scrolled": true
   },
   "outputs": [
    {
     "name": "stdout",
     "output_type": "stream",
     "text": [
      "Train on 66247 samples, validate on 14904 samples\n",
      "Epoch 1/10\n",
      "66247/66247 [==============================] - 8s 124us/sample - loss: 0.3684 - acc: 0.8991 - val_loss: 0.1819 - val_acc: 0.9606\n",
      "Epoch 2/10\n",
      "66247/66247 [==============================] - 7s 103us/sample - loss: 0.1041 - acc: 0.9753 - val_loss: 0.0946 - val_acc: 0.9767\n",
      "Epoch 3/10\n",
      "66247/66247 [==============================] - 8s 116us/sample - loss: 0.0603 - acc: 0.9859 - val_loss: 0.0694 - val_acc: 0.9849\n",
      "Epoch 4/10\n",
      "66247/66247 [==============================] - 8s 128us/sample - loss: 0.0423 - acc: 0.9894 - val_loss: 0.0579 - val_acc: 0.9836\n",
      "Epoch 5/10\n",
      "66247/66247 [==============================] - 9s 129us/sample - loss: 0.0320 - acc: 0.9918 - val_loss: 0.0430 - val_acc: 0.9889\n",
      "Epoch 6/10\n",
      "66247/66247 [==============================] - 9s 130us/sample - loss: 0.0254 - acc: 0.9931 - val_loss: 0.0376 - val_acc: 0.9886\n",
      "Epoch 7/10\n",
      "66247/66247 [==============================] - 9s 138us/sample - loss: 0.0208 - acc: 0.9942 - val_loss: 0.0350 - val_acc: 0.9893\n",
      "Epoch 8/10\n",
      "66247/66247 [==============================] - 9s 129us/sample - loss: 0.0171 - acc: 0.9956 - val_loss: 0.0360 - val_acc: 0.9879\n",
      "Epoch 9/10\n",
      "66247/66247 [==============================] - 9s 131us/sample - loss: 0.0147 - acc: 0.9960 - val_loss: 0.0291 - val_acc: 0.9900\n",
      "Epoch 10/10\n",
      "66247/66247 [==============================] - 8s 128us/sample - loss: 0.0127 - acc: 0.9970 - val_loss: 0.0376 - val_acc: 0.9866\n"
     ]
    }
   ],
   "source": [
    "# TODO\n",
    "hist = model.fit(Xtr_scale, train_labels, epochs=10, batch_size=100, validation_data=(Xts_scale, test_labels))"
   ]
  },
  {
   "cell_type": "markdown",
   "metadata": {},
   "source": [
    "Plot the validation accuracy saved in `hist.history` dictionary. This gives one accuracy value per epoch.  You should see that the validation accuracy saturates at a little higher than 99%.  After that it \"bounces around\" due to the noise in the stochastic gradient descent."
   ]
  },
  {
   "cell_type": "code",
   "execution_count": 73,
   "metadata": {},
   "outputs": [
    {
     "data": {
      "image/png": "[encoded data removed]",
      "text/plain": [
       "<Figure size 432x288 with 1 Axes>"
      ]
     },
     "metadata": {
      "needs_background": "light"
     },
     "output_type": "display_data"
    }
   ],
   "source": [
    "# TODO\n",
    "import matplotlib.pyplot as plt\n",
    "plt.clf()\n",
    "epochs = range(1, 11)\n",
    "val_acc = hist.history['val_acc']\n",
    "plt.plot(epochs, val_acc, 'b', label = 'validation acc')\n",
    "plt.xlabel('epochs')\n",
    "plt.ylabel('acc')\n",
    "plt.show()"
   ]
  },
  {
   "cell_type": "markdown",
   "metadata": {},
   "source": [
    "Plot the loss values saved in the `hist.history` dictionary.  You should see that the loss is steadily decreasing.  Use the `semilogy` plot."
   ]
  },
  {
   "cell_type": "code",
   "execution_count": 74,
   "metadata": {},
   "outputs": [
    {
     "data": {
      "image/png": "[encoded data removed]",
      "text/plain": [
       "<Figure size 432x288 with 1 Axes>"
      ]
     },
     "metadata": {
      "needs_background": "light"
     },
     "output_type": "display_data"
    }
   ],
   "source": [
    "# TODO\n",
    "val_loss = hist.history['val_loss']\n",
    "plt.semilogy(epochs, val_loss)\n",
    "plt.xlabel('epochs')\n",
    "plt.ylabel('val_loss')\n",
    "plt.show()"
   ]
  },
  {
   "cell_type": "markdown",
   "metadata": {},
   "source": [
    "## Optimizing the Learning Rate\n",
    "\n",
    "One challenge in training neural networks is the selection of the learning rate.  Rerun the above code, trying four learning rates as shown in the vector `rates`.  For each learning rate:\n",
    "* clear the session\n",
    "* construct the network\n",
    "* select the optimizer.  Use the Adam optimizer with the appropriate learrning rate.\n",
    "* train the model for 20 epochs\n",
    "* save the accuracy and losses"
   ]
  },
  {
   "cell_type": "code",
   "execution_count": 52,
   "metadata": {},
   "outputs": [
    {
     "name": "stdout",
     "output_type": "stream",
     "text": [
      "Train on 66247 samples, validate on 14904 samples\n",
      "Epoch 1/20\n",
      "66247/66247 [==============================] - 10s 146us/sample - loss: 0.1048 - acc: 0.9678 - val_loss: 0.0460 - val_acc: 0.9854\n",
      "Epoch 2/20\n",
      "66247/66247 [==============================] - 8s 121us/sample - loss: 0.0293 - acc: 0.9904 - val_loss: 0.0269 - val_acc: 0.9903\n",
      "Epoch 3/20\n",
      "66247/66247 [==============================] - 7s 108us/sample - loss: 0.0213 - acc: 0.9931 - val_loss: 0.0461 - val_acc: 0.9815\n",
      "Epoch 4/20\n",
      "66247/66247 [==============================] - 7s 110us/sample - loss: 0.0153 - acc: 0.9949 - val_loss: 0.0492 - val_acc: 0.9826\n",
      "Epoch 5/20\n",
      "66247/66247 [==============================] - 8s 116us/sample - loss: 0.0168 - acc: 0.9947 - val_loss: 0.0982 - val_acc: 0.9732\n",
      "Epoch 6/20\n",
      "66247/66247 [==============================] - 9s 133us/sample - loss: 0.0149 - acc: 0.9951 - val_loss: 0.0271 - val_acc: 0.9903\n",
      "Epoch 7/20\n",
      "66247/66247 [==============================] - 9s 143us/sample - loss: 0.0115 - acc: 0.9962 - val_loss: 0.0359 - val_acc: 0.9895\n",
      "Epoch 8/20\n",
      "66247/66247 [==============================] - 9s 130us/sample - loss: 0.0145 - acc: 0.9956 - val_loss: 0.0273 - val_acc: 0.9914\n",
      "Epoch 9/20\n",
      "66247/66247 [==============================] - 9s 136us/sample - loss: 0.0117 - acc: 0.9965 - val_loss: 0.0597 - val_acc: 0.9843\n",
      "Epoch 10/20\n",
      "66247/66247 [==============================] - 9s 138us/sample - loss: 0.0119 - acc: 0.9962 - val_loss: 0.0383 - val_acc: 0.9894\n",
      "Epoch 11/20\n",
      "66247/66247 [==============================] - 8s 126us/sample - loss: 0.0109 - acc: 0.9964 - val_loss: 0.0386 - val_acc: 0.9889\n",
      "Epoch 12/20\n",
      "66247/66247 [==============================] - 8s 128us/sample - loss: 0.0098 - acc: 0.9969 - val_loss: 0.0414 - val_acc: 0.9883\n",
      "Epoch 13/20\n",
      "66247/66247 [==============================] - 7s 110us/sample - loss: 0.0102 - acc: 0.9969 - val_loss: 0.0652 - val_acc: 0.9809\n",
      "Epoch 14/20\n",
      "66247/66247 [==============================] - 8s 119us/sample - loss: 0.0102 - acc: 0.9969 - val_loss: 0.0450 - val_acc: 0.9903\n",
      "Epoch 15/20\n",
      "66247/66247 [==============================] - 8s 121us/sample - loss: 0.0088 - acc: 0.9975 - val_loss: 0.0347 - val_acc: 0.9903\n",
      "Epoch 16/20\n",
      "66247/66247 [==============================] - 8s 126us/sample - loss: 0.0102 - acc: 0.9970 - val_loss: 0.0356 - val_acc: 0.9913\n",
      "Epoch 17/20\n",
      "66247/66247 [==============================] - 8s 118us/sample - loss: 0.0075 - acc: 0.9977 - val_loss: 0.0431 - val_acc: 0.9899\n",
      "Epoch 18/20\n",
      "66247/66247 [==============================] - 8s 124us/sample - loss: 0.0089 - acc: 0.9974 - val_loss: 0.0830 - val_acc: 0.9826\n",
      "Epoch 19/20\n",
      "66247/66247 [==============================] - 8s 121us/sample - loss: 0.0081 - acc: 0.9975 - val_loss: 0.1103 - val_acc: 0.9781\n",
      "Epoch 20/20\n",
      "66247/66247 [==============================] - 8s 116us/sample - loss: 0.0074 - acc: 0.9978 - val_loss: 0.0512 - val_acc: 0.9868\n",
      "Train on 66247 samples, validate on 14904 samples\n",
      "Epoch 1/20\n",
      "66247/66247 [==============================] - 8s 119us/sample - loss: 0.3638 - acc: 0.9008 - val_loss: 0.1959 - val_acc: 0.9370\n",
      "Epoch 2/20\n",
      "66247/66247 [==============================] - 8s 124us/sample - loss: 0.1021 - acc: 0.9754 - val_loss: 0.0881 - val_acc: 0.9798\n",
      "Epoch 3/20\n",
      "66247/66247 [==============================] - 7s 110us/sample - loss: 0.0604 - acc: 0.9851 - val_loss: 0.0586 - val_acc: 0.9874\n",
      "Epoch 4/20\n",
      "66247/66247 [==============================] - 8s 117us/sample - loss: 0.0425 - acc: 0.9891 - val_loss: 0.0518 - val_acc: 0.9858\n",
      "Epoch 5/20\n",
      "66247/66247 [==============================] - 8s 116us/sample - loss: 0.0322 - acc: 0.9915 - val_loss: 0.0412 - val_acc: 0.9897\n",
      "Epoch 6/20\n",
      "66247/66247 [==============================] - 8s 113us/sample - loss: 0.0257 - acc: 0.9934 - val_loss: 0.0334 - val_acc: 0.9897\n",
      "Epoch 7/20\n",
      "66247/66247 [==============================] - 7s 112us/sample - loss: 0.0208 - acc: 0.9943 - val_loss: 0.0423 - val_acc: 0.9865\n",
      "Epoch 8/20\n",
      "66247/66247 [==============================] - 7s 109us/sample - loss: 0.0175 - acc: 0.9956 - val_loss: 0.0353 - val_acc: 0.9889\n",
      "Epoch 9/20\n",
      "66247/66247 [==============================] - 7s 104us/sample - loss: 0.0148 - acc: 0.9963 - val_loss: 0.0299 - val_acc: 0.9903\n",
      "Epoch 10/20\n",
      "66247/66247 [==============================] - 7s 112us/sample - loss: 0.0128 - acc: 0.9967 - val_loss: 0.0267 - val_acc: 0.9917\n",
      "Epoch 11/20\n",
      "66247/66247 [==============================] - 8s 118us/sample - loss: 0.0115 - acc: 0.9971 - val_loss: 0.0292 - val_acc: 0.9898\n",
      "Epoch 12/20\n",
      "66247/66247 [==============================] - 7s 111us/sample - loss: 0.0102 - acc: 0.9974 - val_loss: 0.0260 - val_acc: 0.9912\n",
      "Epoch 13/20\n",
      "66247/66247 [==============================] - 7s 108us/sample - loss: 0.0088 - acc: 0.9979 - val_loss: 0.0240 - val_acc: 0.9912\n",
      "Epoch 14/20\n",
      "66247/66247 [==============================] - 7s 112us/sample - loss: 0.0084 - acc: 0.9978 - val_loss: 0.0222 - val_acc: 0.9915\n",
      "Epoch 15/20\n",
      "66247/66247 [==============================] - 8s 115us/sample - loss: 0.0077 - acc: 0.9979 - val_loss: 0.0238 - val_acc: 0.9915\n",
      "Epoch 16/20\n",
      "66247/66247 [==============================] - 7s 109us/sample - loss: 0.0068 - acc: 0.9982 - val_loss: 0.0212 - val_acc: 0.9925\n",
      "Epoch 17/20\n",
      "66247/66247 [==============================] - 7s 110us/sample - loss: 0.0062 - acc: 0.9983 - val_loss: 0.0281 - val_acc: 0.9897\n",
      "Epoch 18/20\n",
      "66247/66247 [==============================] - 8s 115us/sample - loss: 0.0060 - acc: 0.9984 - val_loss: 0.0259 - val_acc: 0.9903\n",
      "Epoch 19/20\n",
      "66247/66247 [==============================] - 7s 105us/sample - loss: 0.0053 - acc: 0.9985 - val_loss: 0.0237 - val_acc: 0.9908\n",
      "Epoch 20/20\n",
      "66247/66247 [==============================] - 7s 112us/sample - loss: 0.0050 - acc: 0.9987 - val_loss: 0.0224 - val_acc: 0.9921\n",
      "Train on 66247 samples, validate on 14904 samples\n",
      "Epoch 1/20\n",
      "66247/66247 [==============================] - 8s 126us/sample - loss: 1.1122 - acc: 0.6600 - val_loss: 0.8596 - val_acc: 0.6758\n",
      "Epoch 2/20\n",
      "66247/66247 [==============================] - 7s 107us/sample - loss: 0.5531 - acc: 0.8531 - val_loss: 0.5803 - val_acc: 0.8186\n",
      "Epoch 3/20\n",
      "66247/66247 [==============================] - 7s 109us/sample - loss: 0.3833 - acc: 0.9126 - val_loss: 0.4324 - val_acc: 0.8808\n",
      "Epoch 4/20\n",
      "66247/66247 [==============================] - 8s 117us/sample - loss: 0.2961 - acc: 0.9333 - val_loss: 0.3404 - val_acc: 0.9120\n",
      "Epoch 5/20\n",
      "66247/66247 [==============================] - 8s 119us/sample - loss: 0.2407 - acc: 0.9461 - val_loss: 0.2933 - val_acc: 0.9174\n",
      "Epoch 6/20\n",
      "66247/66247 [==============================] - 8s 119us/sample - loss: 0.2012 - acc: 0.9541 - val_loss: 0.2378 - val_acc: 0.9361\n",
      "Epoch 7/20\n",
      "66247/66247 [==============================] - 8s 127us/sample - loss: 0.1713 - acc: 0.9605 - val_loss: 0.2060 - val_acc: 0.9436\n",
      "Epoch 8/20\n",
      "66247/66247 [==============================] - 10s 152us/sample - loss: 0.1478 - acc: 0.9652 - val_loss: 0.1786 - val_acc: 0.9496\n",
      "Epoch 9/20\n",
      "66247/66247 [==============================] - 9s 141us/sample - loss: 0.1289 - acc: 0.9691 - val_loss: 0.1586 - val_acc: 0.9545\n",
      "Epoch 10/20\n",
      "66247/66247 [==============================] - 10s 153us/sample - loss: 0.1135 - acc: 0.9731 - val_loss: 0.1361 - val_acc: 0.9625\n",
      "Epoch 11/20\n",
      "66247/66247 [==============================] - 8s 118us/sample - loss: 0.1009 - acc: 0.9765 - val_loss: 0.1199 - val_acc: 0.9668\n",
      "Epoch 12/20\n",
      "66247/66247 [==============================] - 8s 121us/sample - loss: 0.0904 - acc: 0.9786 - val_loss: 0.1069 - val_acc: 0.9728\n",
      "Epoch 13/20\n",
      "66247/66247 [==============================] - 8s 119us/sample - loss: 0.0818 - acc: 0.9811 - val_loss: 0.0953 - val_acc: 0.9764\n",
      "Epoch 14/20\n",
      "66247/66247 [==============================] - 8s 117us/sample - loss: 0.0744 - acc: 0.9828 - val_loss: 0.0933 - val_acc: 0.9759\n",
      "Epoch 15/20\n",
      "66247/66247 [==============================] - 8s 121us/sample - loss: 0.0683 - acc: 0.9842 - val_loss: 0.0864 - val_acc: 0.9781\n",
      "Epoch 16/20\n",
      "66247/66247 [==============================] - 7s 111us/sample - loss: 0.0629 - acc: 0.9853 - val_loss: 0.0754 - val_acc: 0.9825\n",
      "Epoch 17/20\n",
      "66247/66247 [==============================] - 8s 115us/sample - loss: 0.0584 - acc: 0.9860 - val_loss: 0.0722 - val_acc: 0.9830\n",
      "Epoch 18/20\n"
     ]
    },
    {
     "name": "stdout",
     "output_type": "stream",
     "text": [
      "66247/66247 [==============================] - 7s 110us/sample - loss: 0.0545 - acc: 0.9868 - val_loss: 0.0660 - val_acc: 0.9846\n",
      "Epoch 19/20\n",
      "66247/66247 [==============================] - 8s 123us/sample - loss: 0.0509 - acc: 0.9877 - val_loss: 0.0610 - val_acc: 0.9860\n",
      "Epoch 20/20\n",
      "66247/66247 [==============================] - 7s 112us/sample - loss: 0.0479 - acc: 0.9883 - val_loss: 0.0619 - val_acc: 0.9850\n"
     ]
    }
   ],
   "source": [
    "rates = [0.01,0.001,0.0001]\n",
    "batch_size = 100\n",
    "loss_hist = []\n",
    "accurancy_hist = []\n",
    "# TODO\n",
    "for lr in rates:\n",
    "    K.clear_session()\n",
    "    model = Sequential()\n",
    "    model.add(Dense(256, activation = 'sigmoid', input_shape = (120,)))\n",
    "    model.add(Dense(10, activation = 'softmax'))\n",
    "    opt = Adam(lr = lr, decay=1e-6)\n",
    "    model.compile(\n",
    "        loss='categorical_crossentropy',\n",
    "        optimizer= opt, \n",
    "        metrics = ['acc']\n",
    "    ) \n",
    "    hist = model.fit(Xtr_scale, train_labels, epochs=20, batch_size=100, validation_data=(Xts_scale, test_labels))\n",
    "    loss = hist.history['loss']\n",
    "    loss_hist.append(loss)\n",
    "    acc = hist.history['acc'] \n",
    "    accurancy_hist.append(acc)"
   ]
  },
  {
   "cell_type": "markdown",
   "metadata": {},
   "source": [
    "Plot the loss funciton vs. the epoch number for all three learning rates on one graph.  You should see that the lower learning rates are more stable, but converge slower."
   ]
  },
  {
   "cell_type": "code",
   "execution_count": 17,
   "metadata": {},
   "outputs": [],
   "source": [
    "# TODO"
   ]
  },
  {
   "cell_type": "code",
   "execution_count": 75,
   "metadata": {},
   "outputs": [
    {
     "data": {
      "image/png": "[encoded data removed]",
      "text/plain": [
       "<Figure size 432x288 with 1 Axes>"
      ]
     },
     "metadata": {
      "needs_background": "light"
     },
     "output_type": "display_data"
    }
   ],
   "source": [
    "label = [0.01,0.001,0.0001]\n",
    "epochs = range(1, 21)\n",
    "for i in range(3):\n",
    "    plt.semilogy(epochs, loss_hist[i])\n",
    "plt.legend(label, loc=0, ncol=1) # ncol指的是legend的列数\n",
    "plt.xlabel('epochs')\n",
    "plt.ylabel('loss')\n",
    "plt.show()"
   ]
  },
  {
   "cell_type": "code",
   "execution_count": null,
   "metadata": {},
   "outputs": [],
   "source": []
  }
 ],
 "metadata": {
  "anaconda-cloud": {},
  "kernelspec": {
   "display_name": "Python 3",
   "language": "python",
   "name": "python3"
  },
  "language_info": {
   "codemirror_mode": {
    "name": "ipython",
    "version": 3
   },
   "file_extension": ".py",
   "mimetype": "text/x-python",
   "name": "python",
   "nbconvert_exporter": "python",
   "pygments_lexer": "ipython3",
   "version": "3.6.8"
  }
 },
 "nbformat": 4,
 "nbformat_minor": 1
}
