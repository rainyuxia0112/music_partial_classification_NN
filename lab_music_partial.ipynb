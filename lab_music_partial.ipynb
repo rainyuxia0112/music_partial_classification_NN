{
 "cells": [
  {
   "cell_type": "markdown",
   "metadata": {},
   "source": [
    "# Lab:  Neural Networks for Music Classification\n",
    "\n",
    "Due June 5 at 11:59pm.  This lab may be done alone or in groups up to four.  Everyone should submit their own lab, but indicate on your submission if you worked with others.\n",
    "\n",
    "In addition to the concepts in the MNIST neural network demo (posted in the Demo section of CCLE), in this lab, you will learn to:\n",
    "\n",
    "* Load a file from a URL\n",
    "* Extract simple features from audio samples for machine learning tasks such as speech recognition and classification\n",
    "* Build a simple neural network for music classification using these features\n",
    "* Use a callback to store the loss and accuracy history in the training process\n",
    "* Optimize the learning rate of the neural network\n",
    "\n",
    "To illustrate the basic concepts, we will look at a relatively simple music classification problem.  Given a sample of music, we want to determine which instrument (e.g. trumpet, violin, piano) is playing.  This dataset was generously supplied by [Prof. Juan Bello](http://steinhardt.nyu.edu/faculty/Juan_Pablo_Bello) at NYU Stenihardt  and his former PhD student Eric Humphrey (now at Spotify).  They have a complete website dedicated to deep learning methods in music informatics:\n",
    "\n",
    "http://marl.smusic.nyu.edu/wordpress/projects/feature-learning-deep-architectures/deep-learning-python-tutorial/\n",
    "\n"
   ]
  },
  {
   "cell_type": "markdown",
   "metadata": {},
   "source": [
    "## Loading Tensorflow\n",
    "\n",
    "Before starting this lab, you will need to install [Tensorflow](https://www.tensorflow.org/install/).  If you are using [Google colaboratory](https://colab.research.google.com), Tensorflow is already installed.  Run the following command to ensure Tensorflow is installed."
   ]
  },
  {
   "cell_type": "code",
   "execution_count": 1,
   "metadata": {},
   "outputs": [],
   "source": [
    "import tensorflow as tf"
   ]
  },
  {
   "cell_type": "markdown",
   "metadata": {},
   "source": [
    "Then, load the other packages."
   ]
  },
  {
   "cell_type": "code",
   "execution_count": 2,
   "metadata": {},
   "outputs": [],
   "source": [
    "import numpy as np\n",
    "import matplotlib\n",
    "import matplotlib.pyplot as plt\n",
    "%matplotlib inline"
   ]
  },
  {
   "cell_type": "markdown",
   "metadata": {},
   "source": [
    "## Audio Feature Extraction with Librosa\n",
    "\n",
    "The key to audio classification is to extract the correct features. In addition to `keras`, we will need the `librosa` package.  The `librosa` package in python has a rich set of methods extracting the features of audio samples commonly used in machine learning tasks such as speech recognition and sound classification. \n",
    "\n",
    "Installation instructions and complete documentation for the package are given on the [librosa main page](https://librosa.github.io/librosa/).  On most systems, you should be able to simply use:\n",
    "\n",
    "    pip install -u librosa\n",
    "    \n",
    "After you have installed the package, try to import it."
   ]
  },
  {
   "cell_type": "code",
   "execution_count": 3,
   "metadata": {},
   "outputs": [],
   "source": [
    "import librosa\n",
    "import librosa.display\n",
    "import librosa.feature"
   ]
  },
  {
   "cell_type": "markdown",
   "metadata": {},
   "source": [
    "In this lab, we will use a set of music samples from the website:\n",
    "\n",
    "http://theremin.music.uiowa.edu\n",
    "\n",
    "This website has a great set of samples for audio processing.  Look on the web for how to use the `requests.get` and `file.write` commands to load the file at the URL provided into your working directory.\n",
    "\n",
    "You can play the audio sample by copying the file to your local machine and playing it on any media player.  If you listen to it you will hear a soprano saxaphone (with vibrato) playing four notes (C, C#, D, Eb)."
   ]
  },
  {
   "cell_type": "code",
   "execution_count": 27,
   "metadata": {},
   "outputs": [
    {
     "data": {
      "text/plain": [
       "1418242"
      ]
     },
     "execution_count": 27,
     "metadata": {},
     "output_type": "execute_result"
    }
   ],
   "source": [
    "import requests\n",
    "fn = \"SopSax.Vib.pp.C6Eb6.aiff\"\n",
    "url = \"http://theremin.music.uiowa.edu/sound files/MIS/Woodwinds/sopranosaxophone/\"+fn\n",
    "\n",
    "# TODO:  Load the file from url and save it in a file under the name fn\n",
    "r = requests.get(url, allow_redirects=True)\n",
    "open('fn.aiff', 'wb').write(r.content)     #file.write 可以load任何形式的文件，不一定是txt"
   ]
  },
  {
   "cell_type": "markdown",
   "metadata": {},
   "source": [
    "Next, use `librosa` command `librosa.load` to read the audio file with filename `fn` and get the samples `y` and sample rate `sr`."
   ]
  },
  {
   "cell_type": "code",
   "execution_count": 28,
   "metadata": {},
   "outputs": [],
   "source": [
    "# TODO\n",
    "y, sr = librosa.load('fn.aiff')"
   ]
  },
  {
   "cell_type": "markdown",
   "metadata": {},
   "source": [
    "Extracting features from audio files is an entire subject on its own right.  A commonly used set of features are called the Mel Frequency Cepstral Coefficients (MFCCs).  These are derived from the so-called mel spectrogram which is something like a regular spectrogram, but the power and frequency are represented in log scale, which more naturally aligns with human perceptual processing.  You can run the code below to display the mel spectrogram from the audio sample.\n",
    "\n",
    "You can easily see the four notes played in the audio track.  You also see the 'harmonics' of each notes, which are other tones at integer multiples of the fundamental frequency of each note."
   ]
  },
  {
   "cell_type": "code",
   "execution_count": 29,
   "metadata": {},
   "outputs": [
    {
     "data": {
      "image/png": "[encoded data removed]",
      "text/plain": [
       "<Figure size 432x288 with 2 Axes>"
      ]
     },
     "metadata": {
      "needs_background": "light"
     },
     "output_type": "display_data"
    }
   ],
   "source": [
    "S = librosa.feature.melspectrogram(y=y, sr=sr, n_mels=128, fmax=8000)\n",
    "librosa.display.specshow(librosa.amplitude_to_db(S),\n",
    "                         y_axis='mel', fmax=8000, x_axis='time')\n",
    "plt.colorbar(format='%+2.0f dB')\n",
    "plt.title('Mel spectrogram')\n",
    "plt.tight_layout()"
   ]
  },
  {
   "cell_type": "markdown",
   "metadata": {},
   "source": [
    "## Downloading the Data\n",
    "\n",
    "Using the MFCC features described above, Eric Humphrey and Juan Bellow have created a complete data set that can used for instrument classification.  Essentially, they collected a number of data files from the website above.  For each audio file, the segmented the track into notes and then extracted 120 MFCCs for each note.  The goal is to recognize the instrument from the 120 MFCCs.  The process of feature extraction is quite involved.  So, we will just use their processed data provided at:\n",
    "\n",
    "https://github.com/marl/dl4mir-tutorial/blob/master/README.md\n",
    "\n",
    "Note the password.  Load the four files into some directory, say  `instrument_dataset`.  Then, load them with the commands."
   ]
  },
  {
   "cell_type": "code",
   "execution_count": 19,
   "metadata": {},
   "outputs": [],
   "source": [
    "data_dir = 'instrument_dataset/'\n",
    "Xtr = np.load(data_dir+'uiowa_train_data.npy')\n",
    "ytr = np.load(data_dir+'uiowa_train_labels.npy')\n",
    "Xts = np.load(data_dir+'uiowa_test_data.npy')\n",
    "yts = np.load(data_dir+'uiowa_test_labels.npy')"
   ]
  },
  {
   "cell_type": "markdown",
   "metadata": {},
   "source": [
    "Looking at the data files:\n",
    "* What are the number of training and test samples?\n",
    "* What is the number of features for each sample?\n",
    "* How many classes (i.e. instruments) are there per class?\n"
   ]
  },
  {
   "cell_type": "code",
   "execution_count": 5,
   "metadata": {},
   "outputs": [
    {
     "data": {
      "text/plain": [
       "(66247, 120)"
      ]
     },
     "execution_count": 5,
     "metadata": {},
     "output_type": "execute_result"
    }
   ],
   "source": [
    "# TODO\n",
    "num_train = len(Xtr)   # the number of train\n",
    "num_test = len(Xts) # the number of test\n",
    "Xtr.shape     # the number of features are 120\n",
    "# 第三个问题不懂"
   ]
  },
  {
   "cell_type": "markdown",
   "metadata": {},
   "source": [
    "Before continuing, you must scale the training and test data, `Xtr` and `Xts`.  Compute the mean and std deviation of each feature in `Xtr` and create a new training data set, `Xtr_scale`, by subtracting the mean and dividing by the std deviation.  Also compute a scaled test data set, `Xts_scale` using the mean and std deviation learned from the training data set."
   ]
  },
  {
   "cell_type": "code",
   "execution_count": 6,
   "metadata": {},
   "outputs": [
    {
     "data": {
      "text/plain": [
       "(66247, 120)"
      ]
     },
     "execution_count": 6,
     "metadata": {},
     "output_type": "execute_result"
    }
   ],
   "source": [
    "# TODO Scale the training and test matrices\n",
    "train_mean = np.mean(Xtr, axis = 0)\n",
    "train_std = np.std(Xtr, axis = 0)\n",
    "Xtr_scale = (Xtr - train_mean)/train_std\n",
    "test_mean = np.mean(Xts, axis = 0)\n",
    "test_std = np.std(Xts, axis = 0)\n",
    "Xts_scale = (Xts - test_mean)/test_std\n",
    "Xtr_scale.shape"
   ]
  },
  {
   "cell_type": "code",
   "execution_count": 20,
   "metadata": {},
   "outputs": [],
   "source": [
    "from tensorflow.keras.utils import to_categorical\n",
    "train_labels=to_categorical(ytr) \n",
    "test_labels=to_categorical(yts) "
   ]
  },
  {
   "cell_type": "markdown",
   "metadata": {
    "collapsed": true
   },
   "source": [
    "## Building a Neural Network Classifier\n",
    "\n",
    "Following the example in [MNIST neural network demo](./mnist_neural.ipynb), clear the keras session.  Then, create a neural network `model` with:\n",
    "* `nh=256` hidden units\n",
    "* `sigmoid` activation\n",
    "* select the input and output shapes correctly\n",
    "* print the model summary"
   ]
  },
  {
   "cell_type": "code",
   "execution_count": 7,
   "metadata": {},
   "outputs": [],
   "source": [
    "from tensorflow.keras.models import Model, Sequential\n",
    "from tensorflow.keras.layers import Dense, Activation\n",
    "import tensorflow.keras.backend as K\n"
   ]
  },
  {
   "cell_type": "code",
   "execution_count": 22,
   "metadata": {},
   "outputs": [],
   "source": [
    "# TODO clear session\n",
    "K.clear_session()"
   ]
  },
  {
   "cell_type": "code",
   "execution_count": 23,
   "metadata": {},
   "outputs": [],
   "source": [
    "# TODO: construct the model\n",
    "model = Sequential()\n",
    "model.add(Dense(256, activation = 'sigmoid', input_shape = (120,)))\n",
    "model.add(Dense(10, activation = 'softmax'))"
   ]
  },
  {
   "cell_type": "code",
   "execution_count": 24,
   "metadata": {},
   "outputs": [
    {
     "name": "stdout",
     "output_type": "stream",
     "text": [
      "_________________________________________________________________\n",
      "Layer (type)                 Output Shape              Param #   \n",
      "=================================================================\n",
      "dense (Dense)                (None, 256)               30976     \n",
      "_________________________________________________________________\n",
      "dense_1 (Dense)              (None, 10)                2570      \n",
      "=================================================================\n",
      "Total params: 33,546\n",
      "Trainable params: 33,546\n",
      "Non-trainable params: 0\n",
      "_________________________________________________________________\n"
     ]
    }
   ],
   "source": [
    "# TODO:  Print the model summary\n",
    "model.summary()"
   ]
  },
  {
   "cell_type": "markdown",
   "metadata": {},
   "source": [
    "Create an optimizer and compile the model.  Select the appropriate loss function and metrics.  For the optimizer, use the Adam optimizer with a learning rate of 0.001"
   ]
  },
  {
   "cell_type": "code",
   "execution_count": 25,
   "metadata": {
    "scrolled": true
   },
   "outputs": [],
   "source": [
    "# TODO\n",
    "from tensorflow.keras.optimizers import Adam\n",
    "opt = Adam(lr = 0.001, decay=1e-6)\n",
    "model.compile(\n",
    "    loss='categorical_crossentropy',\n",
    "    optimizer= opt, \n",
    "    metrics = ['acc']\n",
    ") "
   ]
  },
  {
   "cell_type": "markdown",
   "metadata": {},
   "source": [
    "Fit the model for 10 epochs using the scaled data for both the training and validation.  Use the `validation_data` option to pass the test data.  Also, pass the callback class create above.  Use a batch size of 100.  Your final accuracy should be >99%."
   ]
  },
  {
   "cell_type": "code",
   "execution_count": 26,
   "metadata": {
    "scrolled": true
   },
   "outputs": [
    {
     "name": "stdout",
     "output_type": "stream",
     "text": [
      "Train on 66247 samples, validate on 14904 samples\n",
      "Epoch 1/10\n",
      "66247/66247 [==============================] - 9s 133us/sample - loss: 0.3600 - acc: 0.9025 - val_loss: 0.1771 - val_acc: 0.9591\n",
      "Epoch 2/10\n",
      "66247/66247 [==============================] - 8s 117us/sample - loss: 0.1015 - acc: 0.9753 - val_loss: 0.1287 - val_acc: 0.9591\n",
      "Epoch 3/10\n",
      "66247/66247 [==============================] - 7s 112us/sample - loss: 0.0598 - acc: 0.9860 - val_loss: 0.1352 - val_acc: 0.9520\n",
      "Epoch 4/10\n",
      "66247/66247 [==============================] - 7s 111us/sample - loss: 0.0423 - acc: 0.9896 - val_loss: 0.1061 - val_acc: 0.9632\n",
      "Epoch 5/10\n",
      "66247/66247 [==============================] - 7s 108us/sample - loss: 0.0323 - acc: 0.9916 - val_loss: 0.1479 - val_acc: 0.9434\n",
      "Epoch 6/10\n",
      "66247/66247 [==============================] - 7s 110us/sample - loss: 0.0256 - acc: 0.9933 - val_loss: 0.1219 - val_acc: 0.9537\n",
      "Epoch 7/10\n",
      "66247/66247 [==============================] - 8s 119us/sample - loss: 0.0210 - acc: 0.9941 - val_loss: 0.1355 - val_acc: 0.9477\n",
      "Epoch 8/10\n",
      "66247/66247 [==============================] - 7s 109us/sample - loss: 0.0178 - acc: 0.9952 - val_loss: 0.1452 - val_acc: 0.9464\n",
      "Epoch 9/10\n",
      "66247/66247 [==============================] - 7s 104us/sample - loss: 0.0153 - acc: 0.9961 - val_loss: 0.1716 - val_acc: 0.9387\n",
      "Epoch 10/10\n",
      "66247/66247 [==============================] - 7s 105us/sample - loss: 0.0133 - acc: 0.9965 - val_loss: 0.1822 - val_acc: 0.9382\n"
     ]
    }
   ],
   "source": [
    "# TODO\n",
    "hist = model.fit(Xtr_scale, train_labels, epochs=10, batch_size=100, validation_data=(Xts_scale, test_labels))"
   ]
  },
  {
   "cell_type": "markdown",
   "metadata": {},
   "source": [
    "Plot the validation accuracy saved in `hist.history` dictionary. This gives one accuracy value per epoch.  You should see that the validation accuracy saturates at a little higher than 99%.  After that it \"bounces around\" due to the noise in the stochastic gradient descent."
   ]
  },
  {
   "cell_type": "code",
   "execution_count": 27,
   "metadata": {},
   "outputs": [
    {
     "data": {
      "image/png": "[encoded data removed]",
      "text/plain": [
       "<Figure size 432x288 with 1 Axes>"
      ]
     },
     "metadata": {
      "needs_background": "light"
     },
     "output_type": "display_data"
    }
   ],
   "source": [
    "# TODO\n",
    "import matplotlib.pyplot as plt\n",
    "plt.clf()\n",
    "epochs = range(1, 11)\n",
    "val_acc = hist.history['val_acc']\n",
    "plt.plot(epochs, val_acc, 'b', label = 'validation acc')\n",
    "plt.xlabel('epochs')\n",
    "plt.ylabel('acc')\n",
    "plt.show()"
   ]
  },
  {
   "cell_type": "markdown",
   "metadata": {},
   "source": [
    "Plot the loss values saved in the `hist.history` dictionary.  You should see that the loss is steadily decreasing.  Use the `semilogy` plot."
   ]
  },
  {
   "cell_type": "code",
   "execution_count": 29,
   "metadata": {},
   "outputs": [
    {
     "data": {
      "image/png": "[encoded data removed]",
      "text/plain": [
       "<Figure size 432x288 with 1 Axes>"
      ]
     },
     "metadata": {
      "needs_background": "light"
     },
     "output_type": "display_data"
    }
   ],
   "source": [
    "# TODO\n",
    "val_loss = hist.history['val_loss']\n",
    "plt.semilogy(epochs, val_loss)\n",
    "plt.xlabel('epochs')\n",
    "plt.ylabel('val_loss')\n",
    "plt.show()"
   ]
  },
  {
   "cell_type": "markdown",
   "metadata": {},
   "source": [
    "## Optimizing the Learning Rate\n",
    "\n",
    "One challenge in training neural networks is the selection of the learning rate.  Rerun the above code, trying four learning rates as shown in the vector `rates`.  For each learning rate:\n",
    "* clear the session\n",
    "* construct the network\n",
    "* select the optimizer.  Use the Adam optimizer with the appropriate learrning rate.\n",
    "* train the model for 20 epochs\n",
    "* save the accuracy and losses"
   ]
  },
  {
   "cell_type": "code",
   "execution_count": 30,
   "metadata": {},
   "outputs": [
    {
     "name": "stdout",
     "output_type": "stream",
     "text": [
      "Train on 66247 samples, validate on 14904 samples\n",
      "Epoch 1/20\n",
      "66247/66247 [==============================] - 9s 130us/sample - loss: 0.1076 - acc: 0.9666 - val_loss: 0.1099 - val_acc: 0.9627\n",
      "Epoch 2/20\n",
      "66247/66247 [==============================] - 7s 113us/sample - loss: 0.0298 - acc: 0.9903 - val_loss: 0.1745 - val_acc: 0.9440\n",
      "Epoch 3/20\n",
      "66247/66247 [==============================] - 7s 104us/sample - loss: 0.0186 - acc: 0.9940 - val_loss: 0.4308 - val_acc: 0.8908\n",
      "Epoch 4/20\n",
      "66247/66247 [==============================] - 7s 107us/sample - loss: 0.0203 - acc: 0.9931 - val_loss: 0.3137 - val_acc: 0.9216\n",
      "Epoch 5/20\n",
      "66247/66247 [==============================] - 7s 109us/sample - loss: 0.0142 - acc: 0.9953 - val_loss: 0.2848 - val_acc: 0.9311\n",
      "Epoch 6/20\n",
      "66247/66247 [==============================] - 7s 110us/sample - loss: 0.0156 - acc: 0.9946 - val_loss: 0.3334 - val_acc: 0.9280\n",
      "Epoch 7/20\n",
      "66247/66247 [==============================] - 8s 124us/sample - loss: 0.0155 - acc: 0.9949 - val_loss: 0.5458 - val_acc: 0.9029\n",
      "Epoch 8/20\n",
      "66247/66247 [==============================] - 8s 114us/sample - loss: 0.0130 - acc: 0.9958 - val_loss: 0.4299 - val_acc: 0.9140\n",
      "Epoch 9/20\n",
      "66247/66247 [==============================] - 8s 115us/sample - loss: 0.0111 - acc: 0.9967 - val_loss: 0.5793 - val_acc: 0.9018\n",
      "Epoch 10/20\n",
      "66247/66247 [==============================] - 7s 109us/sample - loss: 0.0100 - acc: 0.9967 - val_loss: 0.5200 - val_acc: 0.9094\n",
      "Epoch 11/20\n",
      "66247/66247 [==============================] - 7s 111us/sample - loss: 0.0114 - acc: 0.9967 - val_loss: 0.5719 - val_acc: 0.9100\n",
      "Epoch 12/20\n",
      "66247/66247 [==============================] - 8s 118us/sample - loss: 0.0104 - acc: 0.9968 - val_loss: 0.7185 - val_acc: 0.8925\n",
      "Epoch 13/20\n",
      "66247/66247 [==============================] - 7s 112us/sample - loss: 0.0106 - acc: 0.9966 - val_loss: 0.6075 - val_acc: 0.8971\n",
      "Epoch 14/20\n",
      "66247/66247 [==============================] - 7s 109us/sample - loss: 0.0081 - acc: 0.9976 - val_loss: 0.7349 - val_acc: 0.8992\n",
      "Epoch 15/20\n",
      "66247/66247 [==============================] - 7s 106us/sample - loss: 0.0082 - acc: 0.9973 - val_loss: 0.8705 - val_acc: 0.8870\n",
      "Epoch 16/20\n",
      "66247/66247 [==============================] - 7s 107us/sample - loss: 0.0092 - acc: 0.9971 - val_loss: 0.9521 - val_acc: 0.8778\n",
      "Epoch 17/20\n",
      "66247/66247 [==============================] - 9s 129us/sample - loss: 0.0104 - acc: 0.9971 - val_loss: 0.5500 - val_acc: 0.9092\n",
      "Epoch 18/20\n",
      "66247/66247 [==============================] - 7s 112us/sample - loss: 0.0122 - acc: 0.9967 - val_loss: 1.1375 - val_acc: 0.8674\n",
      "Epoch 19/20\n",
      "66247/66247 [==============================] - 7s 112us/sample - loss: 0.0096 - acc: 0.9970 - val_loss: 1.2394 - val_acc: 0.8482\n",
      "Epoch 20/20\n",
      "66247/66247 [==============================] - 8s 122us/sample - loss: 0.0092 - acc: 0.9971 - val_loss: 0.9554 - val_acc: 0.8819\n",
      "Train on 66247 samples, validate on 14904 samples\n",
      "Epoch 1/20\n",
      "66247/66247 [==============================] - 9s 131us/sample - loss: 0.3546 - acc: 0.9045 - val_loss: 0.1925 - val_acc: 0.9483\n",
      "Epoch 2/20\n",
      "66247/66247 [==============================] - 8s 114us/sample - loss: 0.1011 - acc: 0.9755 - val_loss: 0.1314 - val_acc: 0.9559\n",
      "Epoch 3/20\n",
      "66247/66247 [==============================] - 7s 108us/sample - loss: 0.0590 - acc: 0.9857 - val_loss: 0.1530 - val_acc: 0.9385\n",
      "Epoch 4/20\n",
      "66247/66247 [==============================] - 7s 113us/sample - loss: 0.0418 - acc: 0.9897 - val_loss: 0.1440 - val_acc: 0.9418\n",
      "Epoch 5/20\n",
      "66247/66247 [==============================] - 8s 113us/sample - loss: 0.0318 - acc: 0.9920 - val_loss: 0.1149 - val_acc: 0.9600\n",
      "Epoch 6/20\n",
      "66247/66247 [==============================] - 8s 123us/sample - loss: 0.0253 - acc: 0.9933 - val_loss: 0.1975 - val_acc: 0.9242\n",
      "Epoch 7/20\n",
      "66247/66247 [==============================] - 8s 125us/sample - loss: 0.0211 - acc: 0.9941 - val_loss: 0.1460 - val_acc: 0.9450\n",
      "Epoch 8/20\n",
      "66247/66247 [==============================] - 8s 126us/sample - loss: 0.0171 - acc: 0.9955 - val_loss: 0.2279 - val_acc: 0.9211\n",
      "Epoch 9/20\n",
      "66247/66247 [==============================] - 9s 137us/sample - loss: 0.0149 - acc: 0.9963 - val_loss: 0.2722 - val_acc: 0.9132\n",
      "Epoch 10/20\n",
      "66247/66247 [==============================] - 8s 114us/sample - loss: 0.0131 - acc: 0.9966 - val_loss: 0.2535 - val_acc: 0.9207\n",
      "Epoch 11/20\n",
      "66247/66247 [==============================] - 14s 212us/sample - loss: 0.0115 - acc: 0.9972 - val_loss: 0.1687 - val_acc: 0.9436\n",
      "Epoch 12/20\n",
      "66247/66247 [==============================] - 9s 137us/sample - loss: 0.0105 - acc: 0.9973 - val_loss: 0.2403 - val_acc: 0.9256\n",
      "Epoch 13/20\n",
      "66247/66247 [==============================] - 10s 157us/sample - loss: 0.0094 - acc: 0.9977 - val_loss: 0.2123 - val_acc: 0.9355\n",
      "Epoch 14/20\n",
      "66247/66247 [==============================] - 7s 111us/sample - loss: 0.0084 - acc: 0.9978 - val_loss: 0.2864 - val_acc: 0.9222\n",
      "Epoch 15/20\n",
      "66247/66247 [==============================] - 8s 121us/sample - loss: 0.0076 - acc: 0.9982 - val_loss: 0.2523 - val_acc: 0.9295\n",
      "Epoch 16/20\n",
      "66247/66247 [==============================] - 8s 121us/sample - loss: 0.0071 - acc: 0.9982 - val_loss: 0.2359 - val_acc: 0.9357\n",
      "Epoch 17/20\n",
      "66247/66247 [==============================] - 8s 113us/sample - loss: 0.0064 - acc: 0.9983 - val_loss: 0.2777 - val_acc: 0.9280\n",
      "Epoch 18/20\n",
      "66247/66247 [==============================] - 7s 112us/sample - loss: 0.0058 - acc: 0.9985 - val_loss: 0.1877 - val_acc: 0.9477\n",
      "Epoch 19/20\n",
      "66247/66247 [==============================] - 8s 123us/sample - loss: 0.0055 - acc: 0.9984 - val_loss: 0.3898 - val_acc: 0.9117\n",
      "Epoch 20/20\n",
      "66247/66247 [==============================] - 7s 113us/sample - loss: 0.0050 - acc: 0.9987 - val_loss: 0.4696 - val_acc: 0.9026\n",
      "Train on 66247 samples, validate on 14904 samples\n",
      "Epoch 1/20\n",
      "66247/66247 [==============================] - 9s 134us/sample - loss: 1.1158 - acc: 0.6552 - val_loss: 0.7971 - val_acc: 0.7243\n",
      "Epoch 2/20\n",
      "66247/66247 [==============================] - 7s 110us/sample - loss: 0.5512 - acc: 0.8437 - val_loss: 0.5231 - val_acc: 0.8618\n",
      "Epoch 3/20\n",
      "66247/66247 [==============================] - 8s 118us/sample - loss: 0.3804 - acc: 0.9107 - val_loss: 0.3924 - val_acc: 0.9042\n",
      "Epoch 4/20\n",
      "66247/66247 [==============================] - 7s 111us/sample - loss: 0.2929 - acc: 0.9349 - val_loss: 0.3095 - val_acc: 0.9272\n",
      "Epoch 5/20\n",
      "66247/66247 [==============================] - 7s 109us/sample - loss: 0.2376 - acc: 0.9466 - val_loss: 0.2545 - val_acc: 0.9481\n",
      "Epoch 6/20\n",
      "66247/66247 [==============================] - 7s 110us/sample - loss: 0.1981 - acc: 0.9559 - val_loss: 0.2202 - val_acc: 0.9527\n",
      "Epoch 7/20\n",
      "66247/66247 [==============================] - 7s 111us/sample - loss: 0.1682 - acc: 0.9614 - val_loss: 0.1926 - val_acc: 0.9553\n",
      "Epoch 8/20\n",
      "66247/66247 [==============================] - 8s 115us/sample - loss: 0.1448 - acc: 0.9661 - val_loss: 0.1710 - val_acc: 0.9581\n",
      "Epoch 9/20\n",
      "66247/66247 [==============================] - 7s 112us/sample - loss: 0.1262 - acc: 0.9704 - val_loss: 0.1568 - val_acc: 0.9587\n",
      "Epoch 10/20\n",
      "66247/66247 [==============================] - 7s 112us/sample - loss: 0.1112 - acc: 0.9741 - val_loss: 0.1481 - val_acc: 0.9585\n",
      "Epoch 11/20\n",
      "66247/66247 [==============================] - 7s 110us/sample - loss: 0.0989 - acc: 0.9768 - val_loss: 0.1440 - val_acc: 0.9561\n",
      "Epoch 12/20\n",
      "66247/66247 [==============================] - 8s 113us/sample - loss: 0.0888 - acc: 0.9792 - val_loss: 0.1350 - val_acc: 0.9586\n",
      "Epoch 13/20\n",
      "66247/66247 [==============================] - 7s 113us/sample - loss: 0.0805 - acc: 0.9814 - val_loss: 0.1243 - val_acc: 0.9614\n",
      "Epoch 14/20\n",
      "66247/66247 [==============================] - 8s 120us/sample - loss: 0.0735 - acc: 0.9830 - val_loss: 0.1252 - val_acc: 0.9593\n",
      "Epoch 15/20\n",
      "66247/66247 [==============================] - 7s 106us/sample - loss: 0.0674 - acc: 0.9845 - val_loss: 0.1227 - val_acc: 0.9587\n",
      "Epoch 16/20\n",
      "66247/66247 [==============================] - 8s 116us/sample - loss: 0.0624 - acc: 0.9854 - val_loss: 0.1228 - val_acc: 0.9579\n",
      "Epoch 17/20\n",
      "66247/66247 [==============================] - 7s 109us/sample - loss: 0.0580 - acc: 0.9863 - val_loss: 0.1243 - val_acc: 0.9565\n",
      "Epoch 18/20\n"
     ]
    },
    {
     "name": "stdout",
     "output_type": "stream",
     "text": [
      "66247/66247 [==============================] - 8s 117us/sample - loss: 0.0541 - acc: 0.9874 - val_loss: 0.1190 - val_acc: 0.9593\n",
      "Epoch 19/20\n",
      "66247/66247 [==============================] - 7s 105us/sample - loss: 0.0508 - acc: 0.9880 - val_loss: 0.1262 - val_acc: 0.9540\n",
      "Epoch 20/20\n",
      "66247/66247 [==============================] - 8s 115us/sample - loss: 0.0479 - acc: 0.9887 - val_loss: 0.1263 - val_acc: 0.9529\n"
     ]
    }
   ],
   "source": [
    "rates = [0.01,0.001,0.0001]\n",
    "batch_size = 100\n",
    "loss_hist = []\n",
    "accurancy_hist = []\n",
    "# TODO\n",
    "for lr in rates:\n",
    "    K.clear_session()\n",
    "    model = Sequential()\n",
    "    model.add(Dense(256, activation = 'sigmoid', input_shape = (120,)))\n",
    "    model.add(Dense(10, activation = 'softmax'))\n",
    "    opt = Adam(lr = lr, decay=1e-6)\n",
    "    model.compile(\n",
    "        loss='categorical_crossentropy',\n",
    "        optimizer= opt, \n",
    "        metrics = ['acc']\n",
    "    ) \n",
    "    hist = model.fit(Xtr_scale, train_labels, epochs=20, batch_size=100, validation_data=(Xts_scale, test_labels))\n",
    "    loss = hist.history['loss']  #不知道是val_loss 还是 loss \n",
    "    loss_hist.append(loss)\n",
    "    acc = hist.history['acc']  #不知道是val_acc 还是 acc\n",
    "    accurancy_hist.append(acc)\n",
    "    \n"
   ]
  },
  {
   "cell_type": "markdown",
   "metadata": {},
   "source": [
    "Plot the loss funciton vs. the epoch number for all three learning rates on one graph.  You should see that the lower learning rates are more stable, but converge slower."
   ]
  },
  {
   "cell_type": "code",
   "execution_count": 17,
   "metadata": {},
   "outputs": [],
   "source": [
    "# TODO"
   ]
  },
  {
   "cell_type": "code",
   "execution_count": 35,
   "metadata": {},
   "outputs": [
    {
     "data": {
      "image/png": "[encoded data removed]",
      "text/plain": [
       "<Figure size 432x288 with 1 Axes>"
      ]
     },
     "metadata": {
      "needs_background": "light"
     },
     "output_type": "display_data"
    }
   ],
   "source": [
    "label = [0.01,0.001,0.0001]\n",
    "epochs = range(1, 21)\n",
    "for i in range(3):\n",
    "    plt.semilogy(epochs, loss_hist[i])\n",
    "plt.legend(label, loc=0, ncol=1) # ncol指的是legend的列数\n",
    "plt.xlabel('epochs')\n",
    "plt.ylabel('loss')\n",
    "plt.show()"
   ]
  },
  {
   "cell_type": "code",
   "execution_count": null,
   "metadata": {},
   "outputs": [],
   "source": []
  }
 ],
 "metadata": {
  "anaconda-cloud": {},
  "kernelspec": {
   "display_name": "Python 3",
   "language": "python",
   "name": "python3"
  },
  "language_info": {
   "codemirror_mode": {
    "name": "ipython",
    "version": 3
   },
   "file_extension": ".py",
   "mimetype": "text/x-python",
   "name": "python",
   "nbconvert_exporter": "python",
   "pygments_lexer": "ipython3",
   "version": "3.6.8"
  }
 },
 "nbformat": 4,
 "nbformat_minor": 1
}
